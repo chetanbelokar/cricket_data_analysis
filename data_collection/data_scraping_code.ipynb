{
 "cells": [
  {
   "cell_type": "markdown",
   "id": "36c49080",
   "metadata": {},
   "source": [
    "# Required libraries"
   ]
  },
  {
   "cell_type": "code",
   "execution_count": 1,
   "id": "d169ef00",
   "metadata": {},
   "outputs": [],
   "source": [
    "from bs4 import BeautifulSoup\n",
    "import requests\n",
    "import pandas as pd\n",
    "import numpy as np\n",
    "import re"
   ]
  },
  {
   "cell_type": "markdown",
   "id": "c9804aab",
   "metadata": {},
   "source": [
    "# 1 Results Table "
   ]
  },
  {
   "cell_type": "code",
   "execution_count": 10,
   "id": "0d6f3673",
   "metadata": {},
   "outputs": [],
   "source": [
    "url = r'https://stats.espncricinfo.com/ci/engine/records/team/match_results.html?id=14450;type=tournament'      # scrap data from espncricinfo website\n",
    "html = requests.get(url, 'lxml')"
   ]
  },
  {
   "cell_type": "code",
   "execution_count": 11,
   "id": "77186e2c",
   "metadata": {},
   "outputs": [
    {
     "data": {
      "text/plain": [
       "<Response [200]>"
      ]
     },
     "execution_count": 11,
     "metadata": {},
     "output_type": "execute_result"
    }
   ],
   "source": [
    "html                                  # request successful"
   ]
  },
  {
   "cell_type": "code",
   "execution_count": 12,
   "id": "5314e38a",
   "metadata": {},
   "outputs": [],
   "source": [
    "soup = BeautifulSoup(html.text , 'lxml')\n",
    "table = soup.find('table', class_= 'engineTable')           # class \"engineTable\" will give all tables present in webpage\n",
    "rows = table.tbody.find_all('tr')"
   ]
  },
  {
   "cell_type": "code",
   "execution_count": 13,
   "id": "40948fd7",
   "metadata": {},
   "outputs": [],
   "source": [
    "table_dict = {}\n",
    "for i in range(len(rows)):\n",
    "    list1 = rows[i].find_all('td')\n",
    "    list1 = [i.text for i in rows[i].find_all('td')]\n",
    "    list1.append(\"https://www.espncricinfo.com\" + rows[i].find_all('td')[6].a['href'])            # 6th element include scorecard link which is added with base url\n",
    "    \n",
    "    table_dict[i] = list1"
   ]
  },
  {
   "cell_type": "code",
   "execution_count": 17,
   "id": "233915e5",
   "metadata": {},
   "outputs": [
    {
     "data": {
      "text/plain": [
       "['Team 1', 'Team 2', 'Winner', 'Margin', 'Ground', 'Match Date', 'Scorecard']"
      ]
     },
     "execution_count": 17,
     "metadata": {},
     "output_type": "execute_result"
    }
   ],
   "source": [
    "heading = [i.text for i in table.thead.find_all('th')]                         # tag \"thead\" will give column names\n",
    "heading"
   ]
  },
  {
   "cell_type": "code",
   "execution_count": 18,
   "id": "03aaf914",
   "metadata": {},
   "outputs": [
    {
     "name": "stdout",
     "output_type": "stream",
     "text": [
      "['Team 1', 'Team 2', 'Winner', 'Margin', 'Ground', 'Match Date', 'Scorecard', 'scorecard_link']\n"
     ]
    }
   ],
   "source": [
    "heading.append('scorecard_link')\n",
    "print(heading)"
   ]
  },
  {
   "cell_type": "code",
   "execution_count": 19,
   "id": "5ea16d9f",
   "metadata": {},
   "outputs": [],
   "source": [
    "result_df = pd.DataFrame(table_dict, index = heading).T"
   ]
  },
  {
   "cell_type": "code",
   "execution_count": 21,
   "id": "e31fa507",
   "metadata": {},
   "outputs": [
    {
     "data": {
      "text/html": [
       "<div>\n",
       "<style scoped>\n",
       "    .dataframe tbody tr th:only-of-type {\n",
       "        vertical-align: middle;\n",
       "    }\n",
       "\n",
       "    .dataframe tbody tr th {\n",
       "        vertical-align: top;\n",
       "    }\n",
       "\n",
       "    .dataframe thead th {\n",
       "        text-align: right;\n",
       "    }\n",
       "</style>\n",
       "<table border=\"1\" class=\"dataframe\">\n",
       "  <thead>\n",
       "    <tr style=\"text-align: right;\">\n",
       "      <th></th>\n",
       "      <th>Team 1</th>\n",
       "      <th>Team 2</th>\n",
       "      <th>Winner</th>\n",
       "      <th>Margin</th>\n",
       "      <th>Ground</th>\n",
       "      <th>Match Date</th>\n",
       "      <th>Scorecard</th>\n",
       "      <th>scorecard_link</th>\n",
       "    </tr>\n",
       "  </thead>\n",
       "  <tbody>\n",
       "    <tr>\n",
       "      <th>0</th>\n",
       "      <td>Namibia</td>\n",
       "      <td>Sri Lanka</td>\n",
       "      <td>Namibia</td>\n",
       "      <td>55 runs</td>\n",
       "      <td>Geelong</td>\n",
       "      <td>Oct 16, 2022</td>\n",
       "      <td>T20I # 1823</td>\n",
       "      <td>https://www.espncricinfo.com/ci/engine/match/1...</td>\n",
       "    </tr>\n",
       "    <tr>\n",
       "      <th>1</th>\n",
       "      <td>Netherlands</td>\n",
       "      <td>U.A.E.</td>\n",
       "      <td>Netherlands</td>\n",
       "      <td>3 wickets</td>\n",
       "      <td>Geelong</td>\n",
       "      <td>Oct 16, 2022</td>\n",
       "      <td>T20I # 1825</td>\n",
       "      <td>https://www.espncricinfo.com/ci/engine/match/1...</td>\n",
       "    </tr>\n",
       "  </tbody>\n",
       "</table>\n",
       "</div>"
      ],
      "text/plain": [
       "        Team 1     Team 2       Winner     Margin   Ground    Match Date  \\\n",
       "0      Namibia  Sri Lanka      Namibia    55 runs  Geelong  Oct 16, 2022   \n",
       "1  Netherlands     U.A.E.  Netherlands  3 wickets  Geelong  Oct 16, 2022   \n",
       "\n",
       "     Scorecard                                     scorecard_link  \n",
       "0  T20I # 1823  https://www.espncricinfo.com/ci/engine/match/1...  \n",
       "1  T20I # 1825  https://www.espncricinfo.com/ci/engine/match/1...  "
      ]
     },
     "execution_count": 21,
     "metadata": {},
     "output_type": "execute_result"
    }
   ],
   "source": [
    "result_df.head(2)              # shape : (45, 8)"
   ]
  },
  {
   "cell_type": "code",
   "execution_count": 20,
   "id": "3749dc5b",
   "metadata": {},
   "outputs": [],
   "source": [
    "result_df.to_csv('Result_df.csv')                       # results table saved to csv file"
   ]
  },
  {
   "cell_type": "code",
   "execution_count": null,
   "id": "d84b07e9",
   "metadata": {},
   "outputs": [],
   "source": []
  },
  {
   "cell_type": "code",
   "execution_count": null,
   "id": "1bc77dcc",
   "metadata": {},
   "outputs": [],
   "source": []
  },
  {
   "cell_type": "markdown",
   "id": "4c8b670d",
   "metadata": {},
   "source": [
    "# 2 Batting Data"
   ]
  },
  {
   "cell_type": "code",
   "execution_count": 23,
   "id": "74a948df",
   "metadata": {},
   "outputs": [],
   "source": [
    "soup_list = []                                           # soups saved in a list for each url extracted in result_df\n",
    "for i in range(len(result_df['scorecard_link'])):         \n",
    "    url = result_df['scorecard_link'][i]\n",
    "    html = requests.get(url, 'lxml')\n",
    "    soup = BeautifulSoup(html.text , 'lxml')\n",
    "    soup_list.append(soup)"
   ]
  },
  {
   "cell_type": "code",
   "execution_count": 24,
   "id": "9f25a0f2",
   "metadata": {},
   "outputs": [
    {
     "data": {
      "text/html": [
       "<div>\n",
       "<style scoped>\n",
       "    .dataframe tbody tr th:only-of-type {\n",
       "        vertical-align: middle;\n",
       "    }\n",
       "\n",
       "    .dataframe tbody tr th {\n",
       "        vertical-align: top;\n",
       "    }\n",
       "\n",
       "    .dataframe thead th {\n",
       "        text-align: right;\n",
       "    }\n",
       "</style>\n",
       "<table border=\"1\" class=\"dataframe\">\n",
       "  <thead>\n",
       "    <tr style=\"text-align: right;\">\n",
       "      <th></th>\n",
       "      <th>batsmanName</th>\n",
       "      <th>dismissal</th>\n",
       "      <th>runs</th>\n",
       "      <th>balls</th>\n",
       "      <th>M</th>\n",
       "      <th>4s</th>\n",
       "      <th>6s</th>\n",
       "      <th>SR</th>\n",
       "      <th>match</th>\n",
       "      <th>contry</th>\n",
       "      <th>battingPos</th>\n",
       "    </tr>\n",
       "  </thead>\n",
       "  <tbody>\n",
       "  </tbody>\n",
       "</table>\n",
       "</div>"
      ],
      "text/plain": [
       "Empty DataFrame\n",
       "Columns: [batsmanName, dismissal, runs, balls, M, 4s, 6s, SR, match, contry, battingPos]\n",
       "Index: []"
      ]
     },
     "execution_count": 24,
     "metadata": {},
     "output_type": "execute_result"
    }
   ],
   "source": [
    "batting_df = pd.DataFrame(columns = ['batsmanName', 'dismissal', 'runs', 'balls', 'M', '4s','6s','SR','match','contry','battingPos'])\n",
    "batting_df"
   ]
  },
  {
   "cell_type": "code",
   "execution_count": 25,
   "id": "f35db533",
   "metadata": {},
   "outputs": [],
   "source": [
    "heading = ['batsmanName', 'dismissal', 'runs', 'balls', 'M', '4s','6s','SR']"
   ]
  },
  {
   "cell_type": "code",
   "execution_count": 26,
   "id": "f0de8e83",
   "metadata": {},
   "outputs": [],
   "source": [
    "for index in range(len(soup_list)):\n",
    "    try:                                                               # to handle condition when cricket matches are abandoned(index : 20,24,25)\n",
    "        contry_list = soup_list[index].find_all('span', class_ = \"ds-text-title-xs ds-font-bold ds-capitalize\")     # for scraping team names\n",
    "        contry_list = [i.text for i in contry_list]\n",
    "        match_name = contry_list[0] + ' VS ' + contry_list[1]              # team1 Vs team2\n",
    "\n",
    "        # contry_list\n",
    "\n",
    "        tables = soup_list[index].find_all('table')         # extract all score cards from the page with 'table' tag\n",
    "\n",
    "        # batting stats for team 1\n",
    "        row_dict1 = {}\n",
    "        rows_t1 = tables[0].tbody.find_all('tr')        # table[0] is for batting score card of team 1\n",
    "\n",
    "\n",
    "        for i in range(len(rows_t1)):\n",
    "            list1 = rows_t1[i].find_all('td')\n",
    "            list2 = []\n",
    "            for j in list1:\n",
    "                list2.append(j.text)\n",
    "            if list2[0] == '' or list2[0] =='Extras' or list2[0] == 'TOTAL' or list2[0].startswith('Did not bat') or list2[0].startswith('Fall of wickets'):\n",
    "                pass\n",
    "            else:\n",
    "                row_dict1[i] = list2\n",
    "\n",
    "        df1 = pd.DataFrame(row_dict1,index = heading).T\n",
    "\n",
    "        player_count1 = df1.shape[0]                  # count of players batted in this inning.\n",
    "        df1['match'] = [match_name] * player_count1\n",
    "\n",
    "        df1['contry'] = [contry_list[0]] * player_count1\n",
    "\n",
    "        df1['battingPos'] = [i+1 for i in range(player_count1)]\n",
    "\n",
    "        # Batting stats for team 2\n",
    "\n",
    "        row_dict2 = {}\n",
    "        rows_t2 = tables[2].tbody.find_all('tr')                # table[2] is for batting score card of team 2\n",
    "\n",
    "\n",
    "        for i in range(len(rows_t2)):\n",
    "            list1 = rows_t2[i].find_all('td')\n",
    "            list2 = []\n",
    "            for j in list1:\n",
    "                list2.append(j.text)\n",
    "            if list2[0] == '' or list2[0] =='Extras' or list2[0] == 'TOTAL' or list2[0].startswith('Did not bat') or list2[0].startswith('Fall of wickets'):\n",
    "                pass\n",
    "            else:\n",
    "                row_dict2[i] = list2\n",
    "\n",
    "        df2 = pd.DataFrame(row_dict2, index = heading).T\n",
    "\n",
    "        player_count2 = df2.shape[0]                  # count of players batted in this inning.\n",
    "        df2['match'] = [match_name] * player_count2\n",
    "\n",
    "        df2['contry'] = [contry_list[1]] * player_count2\n",
    "\n",
    "        df2['battingPos'] = [i+1 for i in range(player_count2)]\n",
    "\n",
    "        batting_df = pd.concat([batting_df,df1,df2])\n",
    "    except:\n",
    "        pass                                    # to handle condition when matches are abandoned(index : 20,24,25)"
   ]
  },
  {
   "cell_type": "code",
   "execution_count": 28,
   "id": "bd1a97b2",
   "metadata": {},
   "outputs": [
    {
     "data": {
      "text/html": [
       "<div>\n",
       "<style scoped>\n",
       "    .dataframe tbody tr th:only-of-type {\n",
       "        vertical-align: middle;\n",
       "    }\n",
       "\n",
       "    .dataframe tbody tr th {\n",
       "        vertical-align: top;\n",
       "    }\n",
       "\n",
       "    .dataframe thead th {\n",
       "        text-align: right;\n",
       "    }\n",
       "</style>\n",
       "<table border=\"1\" class=\"dataframe\">\n",
       "  <thead>\n",
       "    <tr style=\"text-align: right;\">\n",
       "      <th></th>\n",
       "      <th>batsmanName</th>\n",
       "      <th>dismissal</th>\n",
       "      <th>runs</th>\n",
       "      <th>balls</th>\n",
       "      <th>M</th>\n",
       "      <th>4s</th>\n",
       "      <th>6s</th>\n",
       "      <th>SR</th>\n",
       "      <th>match</th>\n",
       "      <th>contry</th>\n",
       "      <th>battingPos</th>\n",
       "    </tr>\n",
       "  </thead>\n",
       "  <tbody>\n",
       "    <tr>\n",
       "      <th>0</th>\n",
       "      <td>Michael van Lingen</td>\n",
       "      <td>c Pramod Madushan b Chameera</td>\n",
       "      <td>3</td>\n",
       "      <td>6</td>\n",
       "      <td>7</td>\n",
       "      <td>0</td>\n",
       "      <td>0</td>\n",
       "      <td>50.00</td>\n",
       "      <td>Namibia VS Sri Lanka</td>\n",
       "      <td>Namibia</td>\n",
       "      <td>1</td>\n",
       "    </tr>\n",
       "    <tr>\n",
       "      <th>2</th>\n",
       "      <td>Divan la Cock</td>\n",
       "      <td>c Shanaka b Pramod Madushan</td>\n",
       "      <td>9</td>\n",
       "      <td>9</td>\n",
       "      <td>15</td>\n",
       "      <td>1</td>\n",
       "      <td>0</td>\n",
       "      <td>100.00</td>\n",
       "      <td>Namibia VS Sri Lanka</td>\n",
       "      <td>Namibia</td>\n",
       "      <td>2</td>\n",
       "    </tr>\n",
       "  </tbody>\n",
       "</table>\n",
       "</div>"
      ],
      "text/plain": [
       "           batsmanName                     dismissal runs balls   M 4s 6s  \\\n",
       "0  Michael van Lingen   c Pramod Madushan b Chameera    3     6   7  0  0   \n",
       "2       Divan la Cock    c Shanaka b Pramod Madushan    9     9  15  1  0   \n",
       "\n",
       "       SR                 match   contry battingPos  \n",
       "0   50.00  Namibia VS Sri Lanka  Namibia          1  \n",
       "2  100.00  Namibia VS Sri Lanka  Namibia          2  "
      ]
     },
     "execution_count": 28,
     "metadata": {},
     "output_type": "execute_result"
    }
   ],
   "source": [
    "batting_df.head(2)             # shape : (699, 11)"
   ]
  },
  {
   "cell_type": "code",
   "execution_count": 33,
   "id": "20674c70",
   "metadata": {},
   "outputs": [],
   "source": [
    "batting_df.to_csv('Batter_df.csv')                      # batting df saved to csv file"
   ]
  },
  {
   "cell_type": "code",
   "execution_count": null,
   "id": "583d38f9",
   "metadata": {},
   "outputs": [],
   "source": []
  },
  {
   "cell_type": "code",
   "execution_count": null,
   "id": "ef63194d",
   "metadata": {},
   "outputs": [],
   "source": []
  },
  {
   "cell_type": "markdown",
   "id": "ba5508d3",
   "metadata": {},
   "source": [
    "# 3 Bowling data"
   ]
  },
  {
   "cell_type": "code",
   "execution_count": 34,
   "id": "bfc3f1df",
   "metadata": {},
   "outputs": [
    {
     "data": {
      "text/html": [
       "<div>\n",
       "<style scoped>\n",
       "    .dataframe tbody tr th:only-of-type {\n",
       "        vertical-align: middle;\n",
       "    }\n",
       "\n",
       "    .dataframe tbody tr th {\n",
       "        vertical-align: top;\n",
       "    }\n",
       "\n",
       "    .dataframe thead th {\n",
       "        text-align: right;\n",
       "    }\n",
       "</style>\n",
       "<table border=\"1\" class=\"dataframe\">\n",
       "  <thead>\n",
       "    <tr style=\"text-align: right;\">\n",
       "      <th></th>\n",
       "      <th>bowlerName</th>\n",
       "      <th>overs</th>\n",
       "      <th>maiden</th>\n",
       "      <th>runs</th>\n",
       "      <th>wickets</th>\n",
       "      <th>economy</th>\n",
       "      <th>0s</th>\n",
       "      <th>4s</th>\n",
       "      <th>6s</th>\n",
       "      <th>wides</th>\n",
       "      <th>noBalls</th>\n",
       "      <th>match</th>\n",
       "      <th>contry</th>\n",
       "    </tr>\n",
       "  </thead>\n",
       "  <tbody>\n",
       "  </tbody>\n",
       "</table>\n",
       "</div>"
      ],
      "text/plain": [
       "Empty DataFrame\n",
       "Columns: [bowlerName, overs, maiden, runs, wickets, economy, 0s, 4s, 6s, wides, noBalls, match, contry]\n",
       "Index: []"
      ]
     },
     "execution_count": 34,
     "metadata": {},
     "output_type": "execute_result"
    }
   ],
   "source": [
    "heading = ['bowlerName','overs','maiden','runs','wickets','economy','0s','4s','6s','wides','noBalls']\n",
    "bowling_df = pd.DataFrame(columns = heading + ['match','contry'])\n",
    "bowling_df"
   ]
  },
  {
   "cell_type": "code",
   "execution_count": 35,
   "id": "765061e3",
   "metadata": {},
   "outputs": [],
   "source": [
    "for index in range(len(soup_list)) :\n",
    "    try:\n",
    "        contry_list = soup_list[index].find_all('span', class_ = \"ds-text-title-xs ds-font-bold ds-capitalize\")     # for scraping team names\n",
    "        contry_list = [i.text for i in contry_list]\n",
    "        match_name = contry_list[0] + ' VS ' + contry_list[1] \n",
    "        \n",
    "        tables = soup_list[index].find_all('table')         # extract all score cards from the page with 'table' tag\n",
    "        \n",
    "        row_dict1 = {}\n",
    "        rows_t1 = tables[1].tbody.find_all('tr')        # table[1] is for bowling score card of team 1\n",
    "        for i in range(len(rows_t1)):\n",
    "            list1 = rows_t1[i].find_all('td')\n",
    "            list2 = []\n",
    "            for j in list1:\n",
    "                list2.append(j.text)\n",
    "                if len(list2) == 11:\n",
    "                    row_dict1[i] = list2\n",
    "\n",
    "        df1 = pd.DataFrame(row_dict1, index = heading).T\n",
    "\n",
    "        player_count1 = df1.shape[0]                  # count of players bowled in this inning.\n",
    "        df1['match'] = [match_name] * player_count1\n",
    "\n",
    "        df1['contry'] = [contry_list[1]] * player_count1\n",
    "\n",
    "\n",
    "        row_dict2 = {}\n",
    "        rows_t2 = tables[3].tbody.find_all('tr')        # table[3] is for bowling score card of team 2\n",
    "        for i in range(len(rows_t2)):\n",
    "            list1 = rows_t2[i].find_all('td')\n",
    "            list2 = []\n",
    "            for j in list1:\n",
    "                list2.append(j.text)\n",
    "                if len(list2) == 11:\n",
    "                    row_dict2[i] = list2\n",
    "\n",
    "        df2 = pd.DataFrame(row_dict2, index = heading).T\n",
    "\n",
    "        player_count2 = df2.shape[0]                  # count of players bowled in this inning.\n",
    "        df2['match'] = [match_name] * player_count2\n",
    "\n",
    "        df2['contry'] = [contry_list[0]] * player_count2\n",
    "\n",
    "        bowling_df = pd.concat([bowling_df,df1,df2])\n",
    "    except:\n",
    "        pass"
   ]
  },
  {
   "cell_type": "code",
   "execution_count": 37,
   "id": "1d3ef013",
   "metadata": {},
   "outputs": [
    {
     "data": {
      "text/html": [
       "<div>\n",
       "<style scoped>\n",
       "    .dataframe tbody tr th:only-of-type {\n",
       "        vertical-align: middle;\n",
       "    }\n",
       "\n",
       "    .dataframe tbody tr th {\n",
       "        vertical-align: top;\n",
       "    }\n",
       "\n",
       "    .dataframe thead th {\n",
       "        text-align: right;\n",
       "    }\n",
       "</style>\n",
       "<table border=\"1\" class=\"dataframe\">\n",
       "  <thead>\n",
       "    <tr style=\"text-align: right;\">\n",
       "      <th></th>\n",
       "      <th>bowlerName</th>\n",
       "      <th>overs</th>\n",
       "      <th>maiden</th>\n",
       "      <th>runs</th>\n",
       "      <th>wickets</th>\n",
       "      <th>economy</th>\n",
       "      <th>0s</th>\n",
       "      <th>4s</th>\n",
       "      <th>6s</th>\n",
       "      <th>wides</th>\n",
       "      <th>noBalls</th>\n",
       "      <th>match</th>\n",
       "      <th>contry</th>\n",
       "    </tr>\n",
       "  </thead>\n",
       "  <tbody>\n",
       "    <tr>\n",
       "      <th>0</th>\n",
       "      <td>Maheesh Theekshana</td>\n",
       "      <td>4</td>\n",
       "      <td>0</td>\n",
       "      <td>23</td>\n",
       "      <td>1</td>\n",
       "      <td>5.75</td>\n",
       "      <td>7</td>\n",
       "      <td>0</td>\n",
       "      <td>0</td>\n",
       "      <td>2</td>\n",
       "      <td>0</td>\n",
       "      <td>Namibia VS Sri Lanka</td>\n",
       "      <td>Sri Lanka</td>\n",
       "    </tr>\n",
       "    <tr>\n",
       "      <th>2</th>\n",
       "      <td>Dushmantha Chameera</td>\n",
       "      <td>4</td>\n",
       "      <td>0</td>\n",
       "      <td>39</td>\n",
       "      <td>1</td>\n",
       "      <td>9.75</td>\n",
       "      <td>6</td>\n",
       "      <td>3</td>\n",
       "      <td>1</td>\n",
       "      <td>2</td>\n",
       "      <td>0</td>\n",
       "      <td>Namibia VS Sri Lanka</td>\n",
       "      <td>Sri Lanka</td>\n",
       "    </tr>\n",
       "  </tbody>\n",
       "</table>\n",
       "</div>"
      ],
      "text/plain": [
       "            bowlerName overs maiden runs wickets economy 0s 4s 6s wides  \\\n",
       "0   Maheesh Theekshana     4      0   23       1    5.75  7  0  0     2   \n",
       "2  Dushmantha Chameera     4      0   39       1    9.75  6  3  1     2   \n",
       "\n",
       "  noBalls                 match     contry  \n",
       "0       0  Namibia VS Sri Lanka  Sri Lanka  \n",
       "2       0  Namibia VS Sri Lanka  Sri Lanka  "
      ]
     },
     "execution_count": 37,
     "metadata": {},
     "output_type": "execute_result"
    }
   ],
   "source": [
    "bowling_df.head(2)              # shape : (500, 13)"
   ]
  },
  {
   "cell_type": "code",
   "execution_count": 38,
   "id": "25baefdd",
   "metadata": {},
   "outputs": [],
   "source": [
    "bowling_df.to_csv('Bowler_df.csv')                    # save df to csv"
   ]
  },
  {
   "cell_type": "code",
   "execution_count": null,
   "id": "82aece36",
   "metadata": {},
   "outputs": [],
   "source": []
  },
  {
   "cell_type": "code",
   "execution_count": null,
   "id": "3e76f596",
   "metadata": {},
   "outputs": [],
   "source": []
  },
  {
   "cell_type": "markdown",
   "id": "4abe733d",
   "metadata": {},
   "source": [
    "# 4 Players Indivisual Data"
   ]
  },
  {
   "cell_type": "code",
   "execution_count": 39,
   "id": "295c8559",
   "metadata": {},
   "outputs": [
    {
     "data": {
      "text/html": [
       "<div>\n",
       "<style scoped>\n",
       "    .dataframe tbody tr th:only-of-type {\n",
       "        vertical-align: middle;\n",
       "    }\n",
       "\n",
       "    .dataframe tbody tr th {\n",
       "        vertical-align: top;\n",
       "    }\n",
       "\n",
       "    .dataframe thead th {\n",
       "        text-align: right;\n",
       "    }\n",
       "</style>\n",
       "<table border=\"1\" class=\"dataframe\">\n",
       "  <thead>\n",
       "    <tr style=\"text-align: right;\">\n",
       "      <th></th>\n",
       "      <th>link</th>\n",
       "      <th>contry</th>\n",
       "    </tr>\n",
       "  </thead>\n",
       "  <tbody>\n",
       "  </tbody>\n",
       "</table>\n",
       "</div>"
      ],
      "text/plain": [
       "Empty DataFrame\n",
       "Columns: [link, contry]\n",
       "Index: []"
      ]
     },
     "execution_count": 39,
     "metadata": {},
     "output_type": "execute_result"
    }
   ],
   "source": [
    "player_df = pd.DataFrame(columns = ['link','contry'])\n",
    "player_df"
   ]
  },
  {
   "cell_type": "code",
   "execution_count": 40,
   "id": "8a8e9aac",
   "metadata": {},
   "outputs": [],
   "source": [
    "for index in range(len(soup_list)) :\n",
    "    try:\n",
    "    \n",
    "        contry_list = soup_list[index].find_all('span', class_ = \"ds-text-title-xs ds-font-bold ds-capitalize\")     # for scraping team names\n",
    "        contry_list = [i.text for i in contry_list]\n",
    "\n",
    "        tables = soup_list[index].find_all('table')         # extract all score cards from the page with 'table' tag\n",
    "\n",
    "        row_dict = {}\n",
    "        rows_t1 = tables[1].tbody.find_all('tr')        # table[1] is for bowling score card of team 2\n",
    "        for i in range(len(rows_t1)):\n",
    "            list1 = rows_t1[i].find_all('td')\n",
    "            list2 = []\n",
    "            for j in list1:\n",
    "                list2.append(j)\n",
    "                if len(list2) == 11:\n",
    "                    row_dict[list1[0].text] = [\"https://www.espncricinfo.com\" + list1[0].a['href'],contry_list[1]] \n",
    "\n",
    "\n",
    "        rows_t2 = tables[3].tbody.find_all('tr')        # table[3] is for bowling score card of team 1\n",
    "        for i in range(len(rows_t2)):\n",
    "            list1 = rows_t2[i].find_all('td')\n",
    "            list2 = []\n",
    "            for j in list1:\n",
    "                list2.append(j.text)\n",
    "                if len(list2) == 11:\n",
    "                    row_dict[list1[0].text] = [\"https://www.espncricinfo.com\" + list1[0].a['href'],contry_list[0]]\n",
    "\n",
    "\n",
    "        rows_t1 = tables[0].tbody.find_all('tr')        # table[0] is for batting score card of team 1\n",
    "\n",
    "        for i in range(len(rows_t1)):\n",
    "            list1 = rows_t1[i].find_all('td')\n",
    "            list2 = []\n",
    "            for j in list1:\n",
    "                list2.append(j.text)\n",
    "            if list2[0] == '' or list2[0] =='Extras' or list2[0] == 'TOTAL' or list2[0].startswith('Did not bat') or list2[0].startswith('Fall of wickets'):\n",
    "                pass\n",
    "            else:\n",
    "                row_dict[re.sub('\\xa0','',list1[0].text)] = [\"https://www.espncricinfo.com\" + list1[0].a['href'],contry_list[0]]  \n",
    "\n",
    "\n",
    "        rows_t2 = tables[2].tbody.find_all('tr')           # table[2] is for batting score card of team 2\n",
    "\n",
    "\n",
    "        for i in range(len(rows_t2)):\n",
    "            list1 = rows_t2[i].find_all('td')\n",
    "            list2 = []\n",
    "            for j in list1:\n",
    "                list2.append(j.text)\n",
    "            if list2[0] == '' or list2[0] =='Extras' or list2[0] == 'TOTAL' or list2[0].startswith('Did not bat') or list2[0].startswith('Fall of wickets'):\n",
    "                pass\n",
    "            else:\n",
    "                row_dict[re.sub('\\xa0','',list1[0].text)] = [\"https://www.espncricinfo.com\" + list1[0].a['href'],contry_list[1]]\n",
    "\n",
    "\n",
    "        df = pd.DataFrame(row_dict, index = ['link','contry']).T\n",
    "        player_df = pd.concat([player_df,df])\n",
    "        \n",
    "    except:\n",
    "        pass"
   ]
  },
  {
   "cell_type": "code",
   "execution_count": 41,
   "id": "23509075",
   "metadata": {},
   "outputs": [],
   "source": [
    "player_df = player_df.drop_duplicates()                 # Removed duplicate rows"
   ]
  },
  {
   "cell_type": "code",
   "execution_count": 42,
   "id": "f9203b05",
   "metadata": {},
   "outputs": [],
   "source": [
    "info_dict = {}"
   ]
  },
  {
   "cell_type": "code",
   "execution_count": 45,
   "id": "627b5820",
   "metadata": {},
   "outputs": [],
   "source": [
    "for index in range(player_df.shape[0]):             \n",
    "#     print(index)\n",
    "    url = player_df['link'][index]\n",
    "    html = requests.get(url, 'lxml')\n",
    "#     print(html)\n",
    "    soup = BeautifulSoup(html.text , 'lxml')\n",
    "    deatils = soup.find('div',class_ = 'ds-grid lg:ds-grid-cols-3 ds-grid-cols-2 ds-gap-4 ds-mb-8')\n",
    "    data_list = deatils.find_all('div')   \n",
    "    key_list,value_list = [],[]\n",
    "    for j in data_list:                              # list comprehention failed here, simple for loop used to hangle th error\n",
    "        try:\n",
    "            key_list.append(j.p.text)                # key is parameter  , ex: batting style, playing role etc\n",
    "            value_list.append(j.h5.text)   \n",
    "        except:\n",
    "            pass\n",
    "\n",
    "    data_dict = dict(zip(key_list,value_list))      # created dictionary with key and values\n",
    "\n",
    "    info_list = [np.nan,np.nan,np.nan]              # initiated list with null values\n",
    "    try:\n",
    "        info_list[0] = data_dict['Batting Style']   # this is to avoid error, if batting style is not mentioned in web page\n",
    "    except :\n",
    "        pass\n",
    "\n",
    "    try:\n",
    "        info_list[1] = data_dict['Bowling Style']  # this is to avoid error, if bowling style is not mentioned in web page\n",
    "    except :\n",
    "        pass\n",
    "\n",
    "    try:\n",
    "        info_list[2] = data_dict['Playing Role']  # this is to avoid error, if role is not mentioned in web page\n",
    "    except :\n",
    "        pass\n",
    "\n",
    "\n",
    "    info_dict[index] = info_list    "
   ]
  },
  {
   "cell_type": "code",
   "execution_count": 47,
   "id": "b58539e7",
   "metadata": {},
   "outputs": [],
   "source": [
    "df = pd.DataFrame(info_dict,index = ['battingStyle','bowlingStyle','playingRole']).T"
   ]
  },
  {
   "cell_type": "code",
   "execution_count": 48,
   "id": "f92aa803",
   "metadata": {},
   "outputs": [
    {
     "data": {
      "text/html": [
       "<div>\n",
       "<style scoped>\n",
       "    .dataframe tbody tr th:only-of-type {\n",
       "        vertical-align: middle;\n",
       "    }\n",
       "\n",
       "    .dataframe tbody tr th {\n",
       "        vertical-align: top;\n",
       "    }\n",
       "\n",
       "    .dataframe thead th {\n",
       "        text-align: right;\n",
       "    }\n",
       "</style>\n",
       "<table border=\"1\" class=\"dataframe\">\n",
       "  <thead>\n",
       "    <tr style=\"text-align: right;\">\n",
       "      <th></th>\n",
       "      <th>battingStyle</th>\n",
       "      <th>bowlingStyle</th>\n",
       "      <th>playingRole</th>\n",
       "    </tr>\n",
       "  </thead>\n",
       "  <tbody>\n",
       "    <tr>\n",
       "      <th>0</th>\n",
       "      <td>Right hand Bat</td>\n",
       "      <td>Right arm Offbreak</td>\n",
       "      <td>Bowler</td>\n",
       "    </tr>\n",
       "    <tr>\n",
       "      <th>1</th>\n",
       "      <td>Right hand Bat</td>\n",
       "      <td>Right arm Fast</td>\n",
       "      <td>Bowler</td>\n",
       "    </tr>\n",
       "  </tbody>\n",
       "</table>\n",
       "</div>"
      ],
      "text/plain": [
       "     battingStyle        bowlingStyle playingRole\n",
       "0  Right hand Bat  Right arm Offbreak      Bowler\n",
       "1  Right hand Bat      Right arm Fast      Bowler"
      ]
     },
     "execution_count": 48,
     "metadata": {},
     "output_type": "execute_result"
    }
   ],
   "source": [
    "df.head(2)            # shape : (213, 3)"
   ]
  },
  {
   "cell_type": "code",
   "execution_count": 50,
   "id": "319b07b9",
   "metadata": {},
   "outputs": [
    {
     "data": {
      "text/html": [
       "<div>\n",
       "<style scoped>\n",
       "    .dataframe tbody tr th:only-of-type {\n",
       "        vertical-align: middle;\n",
       "    }\n",
       "\n",
       "    .dataframe tbody tr th {\n",
       "        vertical-align: top;\n",
       "    }\n",
       "\n",
       "    .dataframe thead th {\n",
       "        text-align: right;\n",
       "    }\n",
       "</style>\n",
       "<table border=\"1\" class=\"dataframe\">\n",
       "  <thead>\n",
       "    <tr style=\"text-align: right;\">\n",
       "      <th></th>\n",
       "      <th>battingStyle</th>\n",
       "      <th>bowlingStyle</th>\n",
       "      <th>playingRole</th>\n",
       "    </tr>\n",
       "    <tr>\n",
       "      <th>index</th>\n",
       "      <th></th>\n",
       "      <th></th>\n",
       "      <th></th>\n",
       "    </tr>\n",
       "  </thead>\n",
       "  <tbody>\n",
       "    <tr>\n",
       "      <th>Maheesh Theekshana</th>\n",
       "      <td>Right hand Bat</td>\n",
       "      <td>Right arm Offbreak</td>\n",
       "      <td>Bowler</td>\n",
       "    </tr>\n",
       "    <tr>\n",
       "      <th>Dushmantha Chameera</th>\n",
       "      <td>Right hand Bat</td>\n",
       "      <td>Right arm Fast</td>\n",
       "      <td>Bowler</td>\n",
       "    </tr>\n",
       "  </tbody>\n",
       "</table>\n",
       "</div>"
      ],
      "text/plain": [
       "                       battingStyle        bowlingStyle playingRole\n",
       "index                                                              \n",
       "Maheesh Theekshana   Right hand Bat  Right arm Offbreak      Bowler\n",
       "Dushmantha Chameera  Right hand Bat      Right arm Fast      Bowler"
      ]
     },
     "execution_count": 50,
     "metadata": {},
     "output_type": "execute_result"
    }
   ],
   "source": [
    "df['index'] = player_df.index             # index column with player names as value added in df, to match row lables for perfect concat\n",
    "df = df.set_index('index')\n",
    "df.head(2)"
   ]
  },
  {
   "cell_type": "code",
   "execution_count": 51,
   "id": "7ac54912",
   "metadata": {},
   "outputs": [],
   "source": [
    "final_player_df = pd.concat([player_df,df], axis = 1)"
   ]
  },
  {
   "cell_type": "code",
   "execution_count": 54,
   "id": "45260a65",
   "metadata": {},
   "outputs": [
    {
     "data": {
      "text/html": [
       "<div>\n",
       "<style scoped>\n",
       "    .dataframe tbody tr th:only-of-type {\n",
       "        vertical-align: middle;\n",
       "    }\n",
       "\n",
       "    .dataframe tbody tr th {\n",
       "        vertical-align: top;\n",
       "    }\n",
       "\n",
       "    .dataframe thead th {\n",
       "        text-align: right;\n",
       "    }\n",
       "</style>\n",
       "<table border=\"1\" class=\"dataframe\">\n",
       "  <thead>\n",
       "    <tr style=\"text-align: right;\">\n",
       "      <th></th>\n",
       "      <th>link</th>\n",
       "      <th>contry</th>\n",
       "      <th>battingStyle</th>\n",
       "      <th>bowlingStyle</th>\n",
       "      <th>playingRole</th>\n",
       "    </tr>\n",
       "  </thead>\n",
       "  <tbody>\n",
       "    <tr>\n",
       "      <th>Maheesh Theekshana</th>\n",
       "      <td>https://www.espncricinfo.com/cricketers/mahees...</td>\n",
       "      <td>Sri Lanka</td>\n",
       "      <td>Right hand Bat</td>\n",
       "      <td>Right arm Offbreak</td>\n",
       "      <td>Bowler</td>\n",
       "    </tr>\n",
       "    <tr>\n",
       "      <th>Dushmantha Chameera</th>\n",
       "      <td>https://www.espncricinfo.com/cricketers/dushma...</td>\n",
       "      <td>Sri Lanka</td>\n",
       "      <td>Right hand Bat</td>\n",
       "      <td>Right arm Fast</td>\n",
       "      <td>Bowler</td>\n",
       "    </tr>\n",
       "  </tbody>\n",
       "</table>\n",
       "</div>"
      ],
      "text/plain": [
       "                                                                  link  \\\n",
       "Maheesh Theekshana   https://www.espncricinfo.com/cricketers/mahees...   \n",
       "Dushmantha Chameera  https://www.espncricinfo.com/cricketers/dushma...   \n",
       "\n",
       "                        contry    battingStyle        bowlingStyle playingRole  \n",
       "Maheesh Theekshana   Sri Lanka  Right hand Bat  Right arm Offbreak      Bowler  \n",
       "Dushmantha Chameera  Sri Lanka  Right hand Bat      Right arm Fast      Bowler  "
      ]
     },
     "execution_count": 54,
     "metadata": {},
     "output_type": "execute_result"
    }
   ],
   "source": [
    "final_player_df.head(2)         # shape : (213, 5)"
   ]
  },
  {
   "cell_type": "code",
   "execution_count": 56,
   "id": "df877a0d",
   "metadata": {},
   "outputs": [],
   "source": [
    "final_player_df.to_csv('Player_df.csv')             # df saved to csv"
   ]
  },
  {
   "cell_type": "code",
   "execution_count": null,
   "id": "da5728ac",
   "metadata": {},
   "outputs": [],
   "source": []
  },
  {
   "cell_type": "code",
   "execution_count": null,
   "id": "969a6f76",
   "metadata": {},
   "outputs": [],
   "source": []
  }
 ],
 "metadata": {
  "kernelspec": {
   "display_name": "Python 3 (ipykernel)",
   "language": "python",
   "name": "python3"
  },
  "language_info": {
   "codemirror_mode": {
    "name": "ipython",
    "version": 3
   },
   "file_extension": ".py",
   "mimetype": "text/x-python",
   "name": "python",
   "nbconvert_exporter": "python",
   "pygments_lexer": "ipython3",
   "version": "3.10.4"
  }
 },
 "nbformat": 4,
 "nbformat_minor": 5
}
