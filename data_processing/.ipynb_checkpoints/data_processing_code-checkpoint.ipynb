{
 "cells": [
  {
   "cell_type": "markdown",
   "id": "594e704c",
   "metadata": {},
   "source": [
    "# Import required libraries"
   ]
  },
  {
   "cell_type": "code",
   "execution_count": 1,
   "id": "5ca70203",
   "metadata": {},
   "outputs": [],
   "source": [
    "import pandas as pd\n",
    "import re\n",
    "import numpy as np\n",
    "import os"
   ]
  },
  {
   "cell_type": "code",
   "execution_count": 2,
   "id": "8ec3591c",
   "metadata": {},
   "outputs": [],
   "source": [
    "os.chdir('..')                        # to move in back directory (for importing config)\n",
    "import config"
   ]
  },
  {
   "cell_type": "markdown",
   "id": "21d3d69f",
   "metadata": {},
   "source": [
    "# Batting Data"
   ]
  },
  {
   "cell_type": "code",
   "execution_count": 13,
   "id": "6e65a4fe",
   "metadata": {},
   "outputs": [],
   "source": [
    "batting_df = pd.read_csv(config.BATTING_FILE_PATH)\n",
    "batting_df.drop('Unnamed: 0', axis = 1, inplace = True)"
   ]
  },
  {
   "cell_type": "code",
   "execution_count": 24,
   "id": "916eb06f",
   "metadata": {},
   "outputs": [],
   "source": [
    "batting_df['dismissal'] = batting_df['dismissal'].apply(lambda x : 0 if x == 'not out ' else 1)        # lable encoding, 1 for out and 0 for not_out"
   ]
  },
  {
   "cell_type": "code",
   "execution_count": 27,
   "id": "ee2ac229",
   "metadata": {},
   "outputs": [],
   "source": [
    "batting_df['batsmanName'] = batting_df['batsmanName'].apply(lambda x : re.sub('â€|\\xa0|\\(c\\)|\\xa0†|†','',x))   # removed unwanted chrs from player names"
   ]
  },
  {
   "cell_type": "code",
   "execution_count": 30,
   "id": "ab315099",
   "metadata": {},
   "outputs": [],
   "source": [
    "batting_df[['battingPos','runs','balls','4s','6s']] = batting_df[['battingPos','runs','balls','4s','6s']].astype(int)   # converted data from object to int"
   ]
  },
  {
   "cell_type": "code",
   "execution_count": 31,
   "id": "13f8968f",
   "metadata": {},
   "outputs": [],
   "source": [
    "batting_df['SR'] = batting_df['SR'].apply(lambda x : 0.00 if x == '-' else float(x))       # removed unwanted char '-' and converted all values to float"
   ]
  },
  {
   "cell_type": "code",
   "execution_count": 33,
   "id": "166a1903",
   "metadata": {},
   "outputs": [
    {
     "data": {
      "text/html": [
       "<div>\n",
       "<style scoped>\n",
       "    .dataframe tbody tr th:only-of-type {\n",
       "        vertical-align: middle;\n",
       "    }\n",
       "\n",
       "    .dataframe tbody tr th {\n",
       "        vertical-align: top;\n",
       "    }\n",
       "\n",
       "    .dataframe thead th {\n",
       "        text-align: right;\n",
       "    }\n",
       "</style>\n",
       "<table border=\"1\" class=\"dataframe\">\n",
       "  <thead>\n",
       "    <tr style=\"text-align: right;\">\n",
       "      <th></th>\n",
       "      <th>batsmanName</th>\n",
       "      <th>dismissal</th>\n",
       "      <th>runs</th>\n",
       "      <th>balls</th>\n",
       "      <th>M</th>\n",
       "      <th>4s</th>\n",
       "      <th>6s</th>\n",
       "      <th>SR</th>\n",
       "      <th>match</th>\n",
       "      <th>contry</th>\n",
       "      <th>battingPos</th>\n",
       "    </tr>\n",
       "  </thead>\n",
       "  <tbody>\n",
       "    <tr>\n",
       "      <th>0</th>\n",
       "      <td>Michael van Lingen</td>\n",
       "      <td>1</td>\n",
       "      <td>3</td>\n",
       "      <td>6</td>\n",
       "      <td>7</td>\n",
       "      <td>0</td>\n",
       "      <td>0</td>\n",
       "      <td>50.0</td>\n",
       "      <td>Namibia VS Sri Lanka</td>\n",
       "      <td>Namibia</td>\n",
       "      <td>1</td>\n",
       "    </tr>\n",
       "    <tr>\n",
       "      <th>1</th>\n",
       "      <td>Divan la Cock</td>\n",
       "      <td>1</td>\n",
       "      <td>9</td>\n",
       "      <td>9</td>\n",
       "      <td>15</td>\n",
       "      <td>1</td>\n",
       "      <td>0</td>\n",
       "      <td>100.0</td>\n",
       "      <td>Namibia VS Sri Lanka</td>\n",
       "      <td>Namibia</td>\n",
       "      <td>2</td>\n",
       "    </tr>\n",
       "  </tbody>\n",
       "</table>\n",
       "</div>"
      ],
      "text/plain": [
       "          batsmanName  dismissal  runs  balls   M  4s  6s     SR  \\\n",
       "0  Michael van Lingen          1     3      6   7   0   0   50.0   \n",
       "1       Divan la Cock          1     9      9  15   1   0  100.0   \n",
       "\n",
       "                  match   contry  battingPos  \n",
       "0  Namibia VS Sri Lanka  Namibia           1  \n",
       "1  Namibia VS Sri Lanka  Namibia           2  "
      ]
     },
     "execution_count": 33,
     "metadata": {},
     "output_type": "execute_result"
    }
   ],
   "source": [
    "batting_df.head(2)"
   ]
  },
  {
   "cell_type": "code",
   "execution_count": null,
   "id": "f77c1f84",
   "metadata": {},
   "outputs": [],
   "source": []
  },
  {
   "cell_type": "code",
   "execution_count": null,
   "id": "94a9213c",
   "metadata": {},
   "outputs": [],
   "source": []
  },
  {
   "cell_type": "markdown",
   "id": "99ebacc9",
   "metadata": {},
   "source": [
    "# Bowling Data"
   ]
  },
  {
   "cell_type": "code",
   "execution_count": 37,
   "id": "f44490a1",
   "metadata": {},
   "outputs": [],
   "source": [
    "bowling_df = pd.read_csv(config.BOWLING_FILE_PATH)\n",
    "bowling_df.drop('Unnamed: 0', axis = 1, inplace = True)"
   ]
  },
  {
   "cell_type": "code",
   "execution_count": 39,
   "id": "fa7d85d8",
   "metadata": {},
   "outputs": [],
   "source": [
    "bowling_df[['overs','maiden','runs','wickets','economy','0s','4s','6s','wides','noBalls']] = bowling_df[['overs','maiden','runs','wickets','economy','0s','4s','6s','wides','noBalls']].astype(float)              # data type casting to int"
   ]
  },
  {
   "cell_type": "code",
   "execution_count": 43,
   "id": "477b0b24",
   "metadata": {},
   "outputs": [],
   "source": [
    "bowling_df['bowlerName'] = bowling_df['bowlerName'].apply(lambda x : re.sub('â€|\\xa0|\\(c\\)|\\xa0†|†','',x))    # data cleaning"
   ]
  },
  {
   "cell_type": "code",
   "execution_count": 40,
   "id": "cc79a152",
   "metadata": {},
   "outputs": [],
   "source": [
    "bowling_df['complete_overs'] = bowling_df['overs'].apply(lambda x : int(str(x).split('.')[0]))                # conversion of over into obers and balls\n",
    "bowling_df['balls_from_incomplete_over'] = bowling_df['overs'].apply(lambda x : int(str(x).split('.')[1]))"
   ]
  },
  {
   "cell_type": "code",
   "execution_count": 41,
   "id": "e9bc1f78",
   "metadata": {},
   "outputs": [],
   "source": [
    "bowling_df['balls_bowled'] = bowling_df['complete_overs']*6 +bowling_df['balls_from_incomplete_over']"
   ]
  },
  {
   "cell_type": "code",
   "execution_count": 45,
   "id": "078e5aba",
   "metadata": {},
   "outputs": [
    {
     "data": {
      "text/html": [
       "<div>\n",
       "<style scoped>\n",
       "    .dataframe tbody tr th:only-of-type {\n",
       "        vertical-align: middle;\n",
       "    }\n",
       "\n",
       "    .dataframe tbody tr th {\n",
       "        vertical-align: top;\n",
       "    }\n",
       "\n",
       "    .dataframe thead th {\n",
       "        text-align: right;\n",
       "    }\n",
       "</style>\n",
       "<table border=\"1\" class=\"dataframe\">\n",
       "  <thead>\n",
       "    <tr style=\"text-align: right;\">\n",
       "      <th></th>\n",
       "      <th>bowlerName</th>\n",
       "      <th>overs</th>\n",
       "      <th>maiden</th>\n",
       "      <th>runs</th>\n",
       "      <th>wickets</th>\n",
       "      <th>economy</th>\n",
       "      <th>0s</th>\n",
       "      <th>4s</th>\n",
       "      <th>6s</th>\n",
       "      <th>wides</th>\n",
       "      <th>noBalls</th>\n",
       "      <th>match</th>\n",
       "      <th>contry</th>\n",
       "      <th>complete_overs</th>\n",
       "      <th>balls_from_incomplete_over</th>\n",
       "      <th>balls_bowled</th>\n",
       "    </tr>\n",
       "  </thead>\n",
       "  <tbody>\n",
       "    <tr>\n",
       "      <th>0</th>\n",
       "      <td>Maheesh Theekshana</td>\n",
       "      <td>4.0</td>\n",
       "      <td>0.0</td>\n",
       "      <td>23.0</td>\n",
       "      <td>1.0</td>\n",
       "      <td>5.75</td>\n",
       "      <td>7.0</td>\n",
       "      <td>0.0</td>\n",
       "      <td>0.0</td>\n",
       "      <td>2.0</td>\n",
       "      <td>0.0</td>\n",
       "      <td>Namibia VS Sri Lanka</td>\n",
       "      <td>Sri Lanka</td>\n",
       "      <td>4</td>\n",
       "      <td>0</td>\n",
       "      <td>24</td>\n",
       "    </tr>\n",
       "    <tr>\n",
       "      <th>1</th>\n",
       "      <td>Dushmantha Chameera</td>\n",
       "      <td>4.0</td>\n",
       "      <td>0.0</td>\n",
       "      <td>39.0</td>\n",
       "      <td>1.0</td>\n",
       "      <td>9.75</td>\n",
       "      <td>6.0</td>\n",
       "      <td>3.0</td>\n",
       "      <td>1.0</td>\n",
       "      <td>2.0</td>\n",
       "      <td>0.0</td>\n",
       "      <td>Namibia VS Sri Lanka</td>\n",
       "      <td>Sri Lanka</td>\n",
       "      <td>4</td>\n",
       "      <td>0</td>\n",
       "      <td>24</td>\n",
       "    </tr>\n",
       "  </tbody>\n",
       "</table>\n",
       "</div>"
      ],
      "text/plain": [
       "            bowlerName  overs  maiden  runs  wickets  economy   0s   4s   6s  \\\n",
       "0   Maheesh Theekshana    4.0     0.0  23.0      1.0     5.75  7.0  0.0  0.0   \n",
       "1  Dushmantha Chameera    4.0     0.0  39.0      1.0     9.75  6.0  3.0  1.0   \n",
       "\n",
       "   wides  noBalls                 match     contry  complete_overs  \\\n",
       "0    2.0      0.0  Namibia VS Sri Lanka  Sri Lanka               4   \n",
       "1    2.0      0.0  Namibia VS Sri Lanka  Sri Lanka               4   \n",
       "\n",
       "   balls_from_incomplete_over  balls_bowled  \n",
       "0                           0            24  \n",
       "1                           0            24  "
      ]
     },
     "execution_count": 45,
     "metadata": {},
     "output_type": "execute_result"
    }
   ],
   "source": [
    "bowling_df.head(2)"
   ]
  },
  {
   "cell_type": "code",
   "execution_count": null,
   "id": "594fa9d3",
   "metadata": {},
   "outputs": [],
   "source": []
  },
  {
   "cell_type": "code",
   "execution_count": null,
   "id": "067e5833",
   "metadata": {},
   "outputs": [],
   "source": []
  },
  {
   "cell_type": "markdown",
   "id": "6c51ceb3",
   "metadata": {},
   "source": [
    "# Player Data"
   ]
  },
  {
   "cell_type": "code",
   "execution_count": 52,
   "id": "bb099081",
   "metadata": {},
   "outputs": [],
   "source": [
    "player_df = pd.read_csv(config.PLAYER_FILE_PATH)\n",
    "player_df.drop('link', axis = 1, inplace = True)\n",
    "player_df = player_df.rename({'Unnamed: 0':'name'},axis = 1)"
   ]
  },
  {
   "cell_type": "code",
   "execution_count": 54,
   "id": "5262b9dd",
   "metadata": {},
   "outputs": [],
   "source": [
    "player_df['name'] = player_df['name'].apply(lambda x : re.sub('†|â€|\\xa0|\\(c\\)','',x))      # removed unwanted noise and (c)->caption symbol"
   ]
  },
  {
   "cell_type": "code",
   "execution_count": 57,
   "id": "24bacc3f",
   "metadata": {},
   "outputs": [
    {
     "data": {
      "text/html": [
       "<div>\n",
       "<style scoped>\n",
       "    .dataframe tbody tr th:only-of-type {\n",
       "        vertical-align: middle;\n",
       "    }\n",
       "\n",
       "    .dataframe tbody tr th {\n",
       "        vertical-align: top;\n",
       "    }\n",
       "\n",
       "    .dataframe thead th {\n",
       "        text-align: right;\n",
       "    }\n",
       "</style>\n",
       "<table border=\"1\" class=\"dataframe\">\n",
       "  <thead>\n",
       "    <tr style=\"text-align: right;\">\n",
       "      <th></th>\n",
       "      <th>name</th>\n",
       "      <th>contry</th>\n",
       "      <th>battingStyle</th>\n",
       "      <th>bowlingStyle</th>\n",
       "      <th>playingRole</th>\n",
       "    </tr>\n",
       "  </thead>\n",
       "  <tbody>\n",
       "    <tr>\n",
       "      <th>0</th>\n",
       "      <td>Maheesh Theekshana</td>\n",
       "      <td>Sri Lanka</td>\n",
       "      <td>Right hand Bat</td>\n",
       "      <td>Right arm Offbreak</td>\n",
       "      <td>Bowler</td>\n",
       "    </tr>\n",
       "    <tr>\n",
       "      <th>1</th>\n",
       "      <td>Dushmantha Chameera</td>\n",
       "      <td>Sri Lanka</td>\n",
       "      <td>Right hand Bat</td>\n",
       "      <td>Right arm Fast</td>\n",
       "      <td>Bowler</td>\n",
       "    </tr>\n",
       "  </tbody>\n",
       "</table>\n",
       "</div>"
      ],
      "text/plain": [
       "                  name     contry    battingStyle        bowlingStyle  \\\n",
       "0   Maheesh Theekshana  Sri Lanka  Right hand Bat  Right arm Offbreak   \n",
       "1  Dushmantha Chameera  Sri Lanka  Right hand Bat      Right arm Fast   \n",
       "\n",
       "  playingRole  \n",
       "0      Bowler  \n",
       "1      Bowler  "
      ]
     },
     "execution_count": 57,
     "metadata": {},
     "output_type": "execute_result"
    }
   ],
   "source": [
    "player_df.head(2)"
   ]
  },
  {
   "cell_type": "code",
   "execution_count": null,
   "id": "8bd6052e",
   "metadata": {},
   "outputs": [],
   "source": []
  },
  {
   "cell_type": "code",
   "execution_count": null,
   "id": "a40b4068",
   "metadata": {},
   "outputs": [],
   "source": []
  },
  {
   "cell_type": "markdown",
   "id": "7786a932",
   "metadata": {},
   "source": [
    "# Derived Columns For Analysis"
   ]
  },
  {
   "cell_type": "markdown",
   "id": "ab952078",
   "metadata": {},
   "source": [
    "### assign indivisual runs to players"
   ]
  },
  {
   "cell_type": "code",
   "execution_count": 60,
   "id": "50f78760",
   "metadata": {},
   "outputs": [],
   "source": [
    "indivisual_runs_dict = batting_df.groupby('batsmanName')['runs'].sum().to_dict()\n",
    "player_df['indivisual_runs'] = player_df['name'].map(indivisual_runs_dict)"
   ]
  },
  {
   "cell_type": "markdown",
   "id": "6d203d7d",
   "metadata": {},
   "source": [
    "### total balls played"
   ]
  },
  {
   "cell_type": "code",
   "execution_count": 61,
   "id": "b9a60d6f",
   "metadata": {},
   "outputs": [],
   "source": [
    "total_ball_dict = batting_df.groupby('batsmanName')['balls'].sum().to_dict()\n",
    "player_df['total_balls'] = player_df['name'].map(total_ball_dict)"
   ]
  },
  {
   "cell_type": "markdown",
   "id": "f69d217a",
   "metadata": {},
   "source": [
    "### innings played"
   ]
  },
  {
   "cell_type": "code",
   "execution_count": 62,
   "id": "6c236e16",
   "metadata": {},
   "outputs": [],
   "source": [
    "inning_dict = batting_df.loc[batting_df['balls']>0]['batsmanName'].value_counts().to_dict() # inning will be considered if only he faced at least 1 ball(i.e. greater than zero)\n",
    "player_df['innings'] = player_df['name'].map(inning_dict)"
   ]
  },
  {
   "cell_type": "markdown",
   "id": "388f79f1",
   "metadata": {},
   "source": [
    "### dismissed"
   ]
  },
  {
   "cell_type": "code",
   "execution_count": 63,
   "id": "b8100c3e",
   "metadata": {},
   "outputs": [],
   "source": [
    "diss_dict =  batting_df.groupby('batsmanName')['dismissal'].sum().to_dict()\n",
    "player_df['dissmissals'] = player_df['name'].map(diss_dict)"
   ]
  },
  {
   "cell_type": "markdown",
   "id": "0b730859",
   "metadata": {},
   "source": [
    "### fours"
   ]
  },
  {
   "cell_type": "code",
   "execution_count": 64,
   "id": "09fd76ed",
   "metadata": {},
   "outputs": [],
   "source": [
    "fours_dict = batting_df.groupby('batsmanName')['4s'].sum().to_dict()\n",
    "player_df['fours'] = player_df['name'].map(fours_dict)"
   ]
  },
  {
   "cell_type": "markdown",
   "id": "cfe80f15",
   "metadata": {},
   "source": [
    "### sixes"
   ]
  },
  {
   "cell_type": "code",
   "execution_count": 65,
   "id": "c1902ace",
   "metadata": {},
   "outputs": [],
   "source": [
    "sixes_dict = batting_df.groupby('batsmanName')['6s'].sum().to_dict()\n",
    "player_df['sixes'] = player_df['name'].map(sixes_dict)"
   ]
  },
  {
   "cell_type": "markdown",
   "id": "d2a5b6fb",
   "metadata": {},
   "source": [
    "### batting position"
   ]
  },
  {
   "cell_type": "code",
   "execution_count": 66,
   "id": "c22ae95b",
   "metadata": {},
   "outputs": [],
   "source": [
    "bat_pos_dict = batting_df.groupby('batsmanName')['battingPos'].mean().round().to_dict()\n",
    "player_df['bat_pos'] = player_df['name'].map(bat_pos_dict)"
   ]
  },
  {
   "cell_type": "markdown",
   "id": "84fbe16b",
   "metadata": {},
   "source": [
    "### average runs"
   ]
  },
  {
   "cell_type": "code",
   "execution_count": 67,
   "id": "ff4087da",
   "metadata": {},
   "outputs": [],
   "source": [
    "player_df['batting_Avg'] = np.around(player_df['indivisual_runs'] / player_df['dissmissals'],1)"
   ]
  },
  {
   "cell_type": "markdown",
   "id": "86950b34",
   "metadata": {},
   "source": [
    "### overall strike rate"
   ]
  },
  {
   "cell_type": "code",
   "execution_count": 68,
   "id": "55263730",
   "metadata": {},
   "outputs": [],
   "source": [
    "player_df['str_rate'] = np.round(player_df['indivisual_runs'] / player_df['total_balls'] * 100,1)"
   ]
  },
  {
   "cell_type": "markdown",
   "id": "9dfe5175",
   "metadata": {},
   "source": [
    "### boundry percentage"
   ]
  },
  {
   "cell_type": "code",
   "execution_count": 69,
   "id": "3cf08b26",
   "metadata": {},
   "outputs": [],
   "source": [
    "player_df['boundry%'] = np.round(((player_df['fours']*4)+ (player_df['sixes']*6))/player_df['indivisual_runs'] * 100,1)"
   ]
  },
  {
   "cell_type": "markdown",
   "id": "23cdbfd0",
   "metadata": {},
   "source": [
    "### Avg balls Faced"
   ]
  },
  {
   "cell_type": "code",
   "execution_count": 70,
   "id": "3e53b259",
   "metadata": {},
   "outputs": [],
   "source": [
    "balls_dict = batting_df.groupby('batsmanName')['balls'].mean().to_dict()\n",
    "player_df['avg_balls'] = np.around(player_df['name'].map(balls_dict),0)"
   ]
  },
  {
   "cell_type": "markdown",
   "id": "503f058b",
   "metadata": {},
   "source": [
    "### inning bowled"
   ]
  },
  {
   "cell_type": "code",
   "execution_count": 71,
   "id": "b1aeb3cb",
   "metadata": {},
   "outputs": [],
   "source": [
    "bolled_inning_dict = bowling_df['bowlerName'].value_counts().to_dict()\n",
    "player_df['innings_bowled'] = player_df['name'].map(bolled_inning_dict)"
   ]
  },
  {
   "cell_type": "markdown",
   "id": "132feb89",
   "metadata": {},
   "source": [
    "### bowling economy "
   ]
  },
  {
   "cell_type": "code",
   "execution_count": 72,
   "id": "e898c0da",
   "metadata": {},
   "outputs": [],
   "source": [
    "eco_dict = bowling_df.groupby('bowlerName')['economy'].mean()\n",
    "player_df['bow_economy'] = player_df['name'].map(eco_dict)"
   ]
  },
  {
   "cell_type": "markdown",
   "id": "cfaac381",
   "metadata": {},
   "source": [
    "### Balls_bowled"
   ]
  },
  {
   "cell_type": "code",
   "execution_count": 73,
   "id": "78c37714",
   "metadata": {},
   "outputs": [],
   "source": [
    "bowled_dict = bowling_df.groupby('bowlerName')['balls_bowled'].sum()\n",
    "player_df['balls_bowled'] = player_df['name'].map(bowled_dict)"
   ]
  },
  {
   "cell_type": "markdown",
   "id": "ad1a01d2",
   "metadata": {},
   "source": [
    "### Wickets"
   ]
  },
  {
   "cell_type": "code",
   "execution_count": 74,
   "id": "181a1138",
   "metadata": {},
   "outputs": [],
   "source": [
    "wicket_dict = bowling_df.groupby('bowlerName')['wickets'].sum()\n",
    "player_df['wickets'] = player_df['name'].map(wicket_dict)"
   ]
  },
  {
   "cell_type": "markdown",
   "id": "d9b3bff8",
   "metadata": {},
   "source": [
    "### bowling Srike rate"
   ]
  },
  {
   "cell_type": "code",
   "execution_count": 75,
   "id": "73b129e5",
   "metadata": {},
   "outputs": [],
   "source": [
    "player_df['Bow_strike_rate'] = np.round(player_df['balls_bowled'] / player_df['wickets'],1)"
   ]
  },
  {
   "cell_type": "markdown",
   "id": "39bc409d",
   "metadata": {},
   "source": [
    "### Runs Consided"
   ]
  },
  {
   "cell_type": "code",
   "execution_count": 76,
   "id": "371ad627",
   "metadata": {},
   "outputs": [],
   "source": [
    "consided_dict = bowling_df.groupby('bowlerName')['runs'].sum()\n",
    "player_df['runs_consided'] = player_df['name'].map(consided_dict)"
   ]
  },
  {
   "cell_type": "markdown",
   "id": "8af25ff9",
   "metadata": {},
   "source": [
    "### bowling Avg"
   ]
  },
  {
   "cell_type": "code",
   "execution_count": 77,
   "id": "79c0254a",
   "metadata": {},
   "outputs": [],
   "source": [
    "player_df['bow_avg'] = np.round(player_df['runs_consided'] /player_df['wickets'],1)"
   ]
  },
  {
   "cell_type": "markdown",
   "id": "2c410f89",
   "metadata": {},
   "source": [
    "### Dot Balls"
   ]
  },
  {
   "cell_type": "code",
   "execution_count": 78,
   "id": "0d3a8102",
   "metadata": {},
   "outputs": [],
   "source": [
    "dot_dict = bowling_df.groupby('bowlerName')['0s'].sum()\n",
    "player_df['dots'] = player_df['name'].map(dot_dict)"
   ]
  },
  {
   "cell_type": "markdown",
   "id": "4696bb6b",
   "metadata": {},
   "source": [
    "### Dot ball %"
   ]
  },
  {
   "cell_type": "code",
   "execution_count": 79,
   "id": "e59e7ab0",
   "metadata": {},
   "outputs": [],
   "source": [
    "player_df['dot_ball_%'] = np.round(player_df['dots']/player_df['balls_bowled']*100 , 1)"
   ]
  },
  {
   "cell_type": "markdown",
   "id": "c00f5d18",
   "metadata": {},
   "source": [
    "### maidens"
   ]
  },
  {
   "cell_type": "code",
   "execution_count": 80,
   "id": "8ce348d8",
   "metadata": {},
   "outputs": [],
   "source": [
    "maiden_dict = bowling_df.groupby('bowlerName')['maiden'].sum()\n",
    "player_df['maidens'] = player_df['name'].map(maiden_dict)"
   ]
  },
  {
   "cell_type": "markdown",
   "id": "0efebac0",
   "metadata": {},
   "source": [
    "### Avg balls faced"
   ]
  },
  {
   "cell_type": "code",
   "execution_count": 81,
   "id": "03da3ae2",
   "metadata": {},
   "outputs": [],
   "source": [
    "player_df['avg_ball_faced'] = np.round(player_df['total_balls']/player_df['innings'],1)"
   ]
  },
  {
   "cell_type": "code",
   "execution_count": 84,
   "id": "0e888749",
   "metadata": {},
   "outputs": [
    {
     "data": {
      "text/html": [
       "<div>\n",
       "<style scoped>\n",
       "    .dataframe tbody tr th:only-of-type {\n",
       "        vertical-align: middle;\n",
       "    }\n",
       "\n",
       "    .dataframe tbody tr th {\n",
       "        vertical-align: top;\n",
       "    }\n",
       "\n",
       "    .dataframe thead th {\n",
       "        text-align: right;\n",
       "    }\n",
       "</style>\n",
       "<table border=\"1\" class=\"dataframe\">\n",
       "  <thead>\n",
       "    <tr style=\"text-align: right;\">\n",
       "      <th></th>\n",
       "      <th>name</th>\n",
       "      <th>contry</th>\n",
       "      <th>battingStyle</th>\n",
       "      <th>bowlingStyle</th>\n",
       "      <th>playingRole</th>\n",
       "      <th>indivisual_runs</th>\n",
       "      <th>total_balls</th>\n",
       "      <th>innings</th>\n",
       "      <th>dissmissals</th>\n",
       "      <th>fours</th>\n",
       "      <th>...</th>\n",
       "      <th>bow_economy</th>\n",
       "      <th>balls_bowled</th>\n",
       "      <th>wickets</th>\n",
       "      <th>Bow_strike_rate</th>\n",
       "      <th>runs_consided</th>\n",
       "      <th>bow_avg</th>\n",
       "      <th>dots</th>\n",
       "      <th>dot_ball_%</th>\n",
       "      <th>maidens</th>\n",
       "      <th>avg_ball_faced</th>\n",
       "    </tr>\n",
       "  </thead>\n",
       "  <tbody>\n",
       "    <tr>\n",
       "      <th>0</th>\n",
       "      <td>Maheesh Theekshana</td>\n",
       "      <td>Sri Lanka</td>\n",
       "      <td>Right hand Bat</td>\n",
       "      <td>Right arm Offbreak</td>\n",
       "      <td>Bowler</td>\n",
       "      <td>11.0</td>\n",
       "      <td>14.0</td>\n",
       "      <td>2.0</td>\n",
       "      <td>1.0</td>\n",
       "      <td>0.0</td>\n",
       "      <td>...</td>\n",
       "      <td>6.67375</td>\n",
       "      <td>181.0</td>\n",
       "      <td>9.0</td>\n",
       "      <td>20.1</td>\n",
       "      <td>202.0</td>\n",
       "      <td>22.4</td>\n",
       "      <td>71.0</td>\n",
       "      <td>39.2</td>\n",
       "      <td>0.0</td>\n",
       "      <td>7.0</td>\n",
       "    </tr>\n",
       "    <tr>\n",
       "      <th>1</th>\n",
       "      <td>Dushmantha Chameera</td>\n",
       "      <td>Sri Lanka</td>\n",
       "      <td>Right hand Bat</td>\n",
       "      <td>Right arm Fast</td>\n",
       "      <td>Bowler</td>\n",
       "      <td>9.0</td>\n",
       "      <td>16.0</td>\n",
       "      <td>2.0</td>\n",
       "      <td>1.0</td>\n",
       "      <td>0.0</td>\n",
       "      <td>...</td>\n",
       "      <td>6.83000</td>\n",
       "      <td>47.0</td>\n",
       "      <td>4.0</td>\n",
       "      <td>11.8</td>\n",
       "      <td>54.0</td>\n",
       "      <td>13.5</td>\n",
       "      <td>22.0</td>\n",
       "      <td>46.8</td>\n",
       "      <td>0.0</td>\n",
       "      <td>8.0</td>\n",
       "    </tr>\n",
       "  </tbody>\n",
       "</table>\n",
       "<p>2 rows × 27 columns</p>\n",
       "</div>"
      ],
      "text/plain": [
       "                  name     contry    battingStyle        bowlingStyle  \\\n",
       "0   Maheesh Theekshana  Sri Lanka  Right hand Bat  Right arm Offbreak   \n",
       "1  Dushmantha Chameera  Sri Lanka  Right hand Bat      Right arm Fast   \n",
       "\n",
       "  playingRole  indivisual_runs  total_balls  innings  dissmissals  fours  ...  \\\n",
       "0      Bowler             11.0         14.0      2.0          1.0    0.0  ...   \n",
       "1      Bowler              9.0         16.0      2.0          1.0    0.0  ...   \n",
       "\n",
       "   bow_economy  balls_bowled  wickets  Bow_strike_rate  runs_consided  \\\n",
       "0      6.67375         181.0      9.0             20.1          202.0   \n",
       "1      6.83000          47.0      4.0             11.8           54.0   \n",
       "\n",
       "   bow_avg  dots  dot_ball_%  maidens  avg_ball_faced  \n",
       "0     22.4  71.0        39.2      0.0             7.0  \n",
       "1     13.5  22.0        46.8      0.0             8.0  \n",
       "\n",
       "[2 rows x 27 columns]"
      ]
     },
     "execution_count": 84,
     "metadata": {},
     "output_type": "execute_result"
    }
   ],
   "source": [
    "player_df.head(2)"
   ]
  },
  {
   "cell_type": "code",
   "execution_count": 94,
   "id": "d4f40412",
   "metadata": {},
   "outputs": [],
   "source": [
    "player_df.to_csv(config.CSV_FILE_PATH,index = False)                 # save df to csv file"
   ]
  },
  {
   "cell_type": "code",
   "execution_count": null,
   "id": "ebafa640",
   "metadata": {},
   "outputs": [],
   "source": []
  },
  {
   "cell_type": "code",
   "execution_count": null,
   "id": "9a61c804",
   "metadata": {},
   "outputs": [],
   "source": []
  }
 ],
 "metadata": {
  "kernelspec": {
   "display_name": "Python 3 (ipykernel)",
   "language": "python",
   "name": "python3"
  },
  "language_info": {
   "codemirror_mode": {
    "name": "ipython",
    "version": 3
   },
   "file_extension": ".py",
   "mimetype": "text/x-python",
   "name": "python",
   "nbconvert_exporter": "python",
   "pygments_lexer": "ipython3",
   "version": "3.10.4"
  }
 },
 "nbformat": 4,
 "nbformat_minor": 5
}
